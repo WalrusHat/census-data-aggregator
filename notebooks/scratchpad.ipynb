{
 "cells": [
  {
   "cell_type": "markdown",
   "metadata": {},
   "source": [
    "# Census aggregation scratchpad\n",
    "\n",
    "By [Ben Welsh](https://palewi.re/who-is-ben-welsh/)"
   ]
  },
  {
   "cell_type": "code",
   "execution_count": 119,
   "metadata": {},
   "outputs": [],
   "source": [
    "import math"
   ]
  },
  {
   "cell_type": "markdown",
   "metadata": {},
   "source": [
    "### Approximation"
   ]
  },
  {
   "cell_type": "markdown",
   "metadata": {},
   "source": [
    "![](https://assets.documentcloud.org/documents/6162551/pages/20180418-MOE-p50-normal.gif)\n",
    "![](https://assets.documentcloud.org/documents/6162551/pages/20180418-MOE-p51-normal.gif)"
   ]
  },
  {
   "cell_type": "code",
   "execution_count": 120,
   "metadata": {},
   "outputs": [],
   "source": [
    "males_under_5, males_under_5_moe = 10154024, 3778"
   ]
  },
  {
   "cell_type": "code",
   "execution_count": 121,
   "metadata": {},
   "outputs": [],
   "source": [
    "females_under_5, females_under_5_moe = 9712936, 3911"
   ]
  },
  {
   "cell_type": "code",
   "execution_count": 122,
   "metadata": {},
   "outputs": [],
   "source": [
    "total_under_5 = males_under_5 + females_under_5"
   ]
  },
  {
   "cell_type": "code",
   "execution_count": 123,
   "metadata": {},
   "outputs": [
    {
     "data": {
      "text/plain": [
       "19866960"
      ]
     },
     "execution_count": 123,
     "metadata": {},
     "output_type": "execute_result"
    }
   ],
   "source": [
    "total_under_5"
   ]
  },
  {
   "cell_type": "code",
   "execution_count": 124,
   "metadata": {},
   "outputs": [],
   "source": [
    "total_under_5_moe = math.sqrt(males_under_5_moe**2 + females_under_5_moe**2)"
   ]
  },
  {
   "cell_type": "code",
   "execution_count": 125,
   "metadata": {},
   "outputs": [
    {
     "data": {
      "text/plain": [
       "5437.757350231803"
      ]
     },
     "execution_count": 125,
     "metadata": {},
     "output_type": "execute_result"
    }
   ],
   "source": [
    "total_under_5_moe"
   ]
  },
  {
   "cell_type": "markdown",
   "metadata": {},
   "source": [
    "![](https://assets.documentcloud.org/documents/6162551/pages/20180418-MOE-p52-normal.gif?1561126109)"
   ]
  },
  {
   "cell_type": "code",
   "execution_count": 126,
   "metadata": {},
   "outputs": [],
   "source": [
    "def approximate_margin_of_error(*pairs):\n",
    "    \"\"\"\n",
    "    Returns the approximate margin of error after combining all of the provided Census Bureau estimates, taking into account each value's margin of error.\n",
    "    \n",
    "    Expects a series of arguments, each a paired list with the estimated value first and the margin of error second.\n",
    "    \"\"\"\n",
    "    # According to the Census Bureau, when approximating a sum use only the largest zero estimate margin of error, once\n",
    "    # https://www.documentcloud.org/documents/6162551-20180418-MOE.html#document/p52\n",
    "    zeros = [p for p in pairs if p[0] == 0]\n",
    "    if len(zeros) > 1:\n",
    "        max_zero_margin = max([p[1] for p in zeros])\n",
    "        not_zero_margins = [p[1] for p in pairs if p[0] != 0]\n",
    "        margins = [max_zero_margin] + not_zero_margins\n",
    "    else:\n",
    "        margins = [p[1] for p in pairs]\n",
    "    return math.sqrt(sum([m**2 for m in margins]))    "
   ]
  },
  {
   "cell_type": "code",
   "execution_count": 127,
   "metadata": {},
   "outputs": [
    {
     "data": {
      "text/plain": [
       "5437.757350231803"
      ]
     },
     "execution_count": 127,
     "metadata": {},
     "output_type": "execute_result"
    }
   ],
   "source": [
    "approximate_margin_of_error(\n",
    "    (males_under_5, males_under_5_moe),\n",
    "    (females_under_5, females_under_5_moe)\n",
    ")"
   ]
  },
  {
   "cell_type": "code",
   "execution_count": 128,
   "metadata": {},
   "outputs": [
    {
     "data": {
      "text/plain": [
       "47.01063709417264"
      ]
     },
     "execution_count": 128,
     "metadata": {},
     "output_type": "execute_result"
    }
   ],
   "source": [
    "approximate_margin_of_error(\n",
    "    [0, 22],\n",
    "    [0, 22],\n",
    "    [0, 29],\n",
    "    [41, 37]\n",
    ")"
   ]
  },
  {
   "cell_type": "markdown",
   "metadata": {},
   "source": [
    "### Aggregating totals"
   ]
  },
  {
   "cell_type": "code",
   "execution_count": 129,
   "metadata": {},
   "outputs": [],
   "source": [
    "def total(*pairs):\n",
    "    \"\"\"\n",
    "    Returns the combined value of all the provided Census Bureau estimates, along with an approximated margin of error.\n",
    "    \n",
    "    Expects a series of arguments, each a paired list with the estimated value first and the margin of error second.\n",
    "    \"\"\"\n",
    "    return sum([p[0] for p in pairs]), approximate_margin_of_error(*pairs)"
   ]
  },
  {
   "cell_type": "code",
   "execution_count": 130,
   "metadata": {},
   "outputs": [
    {
     "data": {
      "text/plain": [
       "(19866960, 5437.757350231803)"
      ]
     },
     "execution_count": 130,
     "metadata": {},
     "output_type": "execute_result"
    }
   ],
   "source": [
    "total(\n",
    "    (males_under_5, males_under_5_moe),\n",
    "    (females_under_5, females_under_5_moe)\n",
    ")"
   ]
  },
  {
   "cell_type": "code",
   "execution_count": 131,
   "metadata": {},
   "outputs": [
    {
     "data": {
      "text/plain": [
       "(41, 47.01063709417264)"
      ]
     },
     "execution_count": 131,
     "metadata": {},
     "output_type": "execute_result"
    }
   ],
   "source": [
    "total(\n",
    "    [0, 22],\n",
    "    [0, 22],\n",
    "    [0, 29],\n",
    "    [41, 37]\n",
    ")"
   ]
  },
  {
   "cell_type": "markdown",
   "metadata": {},
   "source": [
    "### Aggregating medians"
   ]
  },
  {
   "cell_type": "markdown",
   "metadata": {},
   "source": [
    "![](https://assets.documentcloud.org/documents/6165014/pages/How-to-Recalculate-a-Median-p1-normal.gif?1561138970)\n",
    "![](https://assets.documentcloud.org/documents/6165014/pages/How-to-Recalculate-a-Median-p2-normal.gif?1561138970)\n",
    "![](https://assets.documentcloud.org/documents/6165014/pages/How-to-Recalculate-a-Median-p3-normal.gif?1561138970)\n",
    "![](https://assets.documentcloud.org/documents/6165014/pages/How-to-Recalculate-a-Median-p4-normal.gif?1561138970)"
   ]
  },
  {
   "cell_type": "code",
   "execution_count": 235,
   "metadata": {},
   "outputs": [],
   "source": [
    "def approximate_median(range_list, design_factor=1.5):\n",
    "    \"\"\"\n",
    "    Returns the estimated median from a set of ranged totals.\n",
    "\n",
    "    Useful for generated medians for measures like median household income and median agn when aggregating census geographies.\n",
    "\n",
    "    Expects a list of dictionaries with three keys:\n",
    "\n",
    "        min: The minimum value in the range\n",
    "        max: The maximum value in the range\n",
    "        n: The number of people, households or other universe figure in the range\n",
    "    \"\"\"\n",
    "    # Sort the list\n",
    "    range_list.sort(key=lambda x: x['min'])\n",
    "\n",
    "    # For each range calculate its min and max value along the universe's scale\n",
    "    cumulative_n = 0\n",
    "    for range_ in range_list:\n",
    "        range_['n_min'] = cumulative_n\n",
    "        cumulative_n += range_['n']\n",
    "        range_['n_max'] = cumulative_n\n",
    "\n",
    "    # What is the total number of observations in the universe?\n",
    "    n = sum([d['n'] for d in range_list])\n",
    "        \n",
    "    # What is the estimated midpoint of the n?\n",
    "    n_midpoint = n / 2.0\n",
    "\n",
    "    # Now use those to determine which group contains the midpoint.\n",
    "    try:\n",
    "        n_midpoint_range = next(d for d in range_list if n_midpoint >= d['n_min'] and n_midpoint <= d['n_max'])\n",
    "    except StopIteration:\n",
    "        raise StopIteration(\"The n's midpoint does not fall within a data range.\")\n",
    "\n",
    "    # How many households in the midrange are needed to reach the midpoint?\n",
    "    n_midrange_gap = n_midpoint - n_midpoint_range['n_min']\n",
    "\n",
    "    # What is the proportion of the group that would be needed to get the midpoint?\n",
    "    n_midrange_gap_percent = n_midrange_gap / n_midpoint_range['n']\n",
    "\n",
    "    # Apply this proportion to the width of the midrange\n",
    "    n_midrange_gap_adjusted = (n_midpoint_range['max'] - n_midpoint_range['min']) * n_midrange_gap_percent\n",
    "\n",
    "    # Estimate the median\n",
    "    estimated_median = n_midpoint_range['min'] + n_midrange_gap_adjusted\n",
    "    \n",
    "    # Get the standard error for this dataset\n",
    "    standard_error = (design_factor * math.sqrt((99/n)*(50**2))) / 100\n",
    "    \n",
    "    # Use the standard error to calculate the p values\n",
    "    p_lower = (.5 - standard_error)\n",
    "    p_upper = (.5 + standard_error)\n",
    "    \n",
    "    # Estimate the p_lower and p_upper n values\n",
    "    p_lower_n = n * p_lower\n",
    "    p_upper_n = n * p_upper\n",
    "    \n",
    "    # Find the ranges the p values fall within\n",
    "    try:\n",
    "        p_lower_range_i, p_lower_range = next(\n",
    "            (i, d) for i, d in enumerate(range_list)\n",
    "                if p_lower_n >= d['n_min'] and p_lower_n <= d['n_max']\n",
    "        )\n",
    "    except StopIteration:\n",
    "        raise StopIteration(\"The n's lower p value does not fall within a data range.\")\n",
    "\n",
    "    try:\n",
    "        p_upper_range_i, p_upper_range = next(\n",
    "            (i, d) for i, d in enumerate(range_list)\n",
    "                if p_upper_n >= d['n_min'] and p_upper_n <= d['n_max']\n",
    "        )\n",
    "    except StopIteration:\n",
    "        raise StopIteration(\"The n's higher p value does not fall within a data range.\")\n",
    "    \n",
    "    # Use these values to estimate the lower bound of the confidence interval\n",
    "    p_lower_a1 = p_lower_range['min']\n",
    "    try:\n",
    "        p_lower_a2 = range_list[p_lower_range_i+1]['min']\n",
    "    except IndexError:\n",
    "        p_lower_a2 = p_lower_range['max']\n",
    "    p_lower_c1 = p_lower_range['n_min'] / n\n",
    "    try:\n",
    "        p_lower_c2 = range_list[p_lower_range_i+1]['n_min'] / n\n",
    "    except IndexError:\n",
    "        p_lower_c2 = p_lower_range['n_max'] / n\n",
    "    lower_bound = ((p_lower - p_lower_c1) / (p_lower_c2 - p_lower_c1)) * (p_lower_a2 - p_lower_a1) + p_lower_a1\n",
    "\n",
    "    # Same for the upper bound\n",
    "    p_upper_a1 = p_upper_range['min']\n",
    "    try:\n",
    "        p_upper_a2 = range_list[p_upper_range_i+1]['min']\n",
    "    except IndexError:\n",
    "        p_upper_a2 = p_upper_range['max']\n",
    "    p_upper_c1 = p_upper_range['n_min'] / n\n",
    "    try:\n",
    "        p_upper_c2 = range_list[p_upper_range_i+1]['n_min'] / n\n",
    "    except IndexError:\n",
    "        p_upper_c2 = p_upper_range['n_max'] / n\n",
    "    upper_bound = ((p_upper - p_upper_c1) / (p_upper_c2 - p_upper_c1)) * (p_upper_a2 - p_upper_a1) + p_upper_a1\n",
    "        \n",
    "    # Calculate the standard error of the median\n",
    "    standard_error_median = 0.5 * (upper_bound - lower_bound)\n",
    "    \n",
    "    # Calculate the margin of error at the 90% confidence level\n",
    "    margin_of_error = 1.645 * standard_error_median\n",
    "    \n",
    "    # Return the result\n",
    "    return estimated_median, margin_of_error"
   ]
  },
  {
   "cell_type": "code",
   "execution_count": 236,
   "metadata": {},
   "outputs": [],
   "source": [
    "income = [\n",
    "    dict(min=-2500, max=9999, n=186),\n",
    "    dict(min=10000, max=14999, n=78),\n",
    "    dict(min=15000, max=19999, n=98),\n",
    "    dict(min=20000, max=24999, n=287),\n",
    "    dict(min=25000, max=29999, n=142),\n",
    "    dict(min=30000, max=34999, n=90),\n",
    "    dict(min=35000, max=39999, n=107),\n",
    "    dict(min=40000, max=44999, n=104),\n",
    "    dict(min=45000, max=49999, n=178),\n",
    "    dict(min=50000, max=59999, n=106),\n",
    "    dict(min=60000, max=74999, n=177),\n",
    "    dict(min=75000, max=99999, n=262),\n",
    "    dict(min=100000, max=124999, n=77),\n",
    "    dict(min=125000, max=149999, n=100),\n",
    "    dict(min=150000, max=199999, n=58),\n",
    "    dict(min=200000, max=250001, n=18)\n",
    "]"
   ]
  },
  {
   "cell_type": "code",
   "execution_count": 237,
   "metadata": {},
   "outputs": [
    {
     "data": {
      "text/plain": [
       "(42211.096153846156, 27260.315546093672)"
      ]
     },
     "execution_count": 237,
     "metadata": {},
     "output_type": "execute_result"
    }
   ],
   "source": [
    "approximate_median(income)"
   ]
  }
 ],
 "metadata": {
  "kernelspec": {
   "display_name": "Python 3",
   "language": "python",
   "name": "python3"
  },
  "language_info": {
   "codemirror_mode": {
    "name": "ipython",
    "version": 3
   },
   "file_extension": ".py",
   "mimetype": "text/x-python",
   "name": "python",
   "nbconvert_exporter": "python",
   "pygments_lexer": "ipython3",
   "version": "3.6.8"
  }
 },
 "nbformat": 4,
 "nbformat_minor": 2
}
