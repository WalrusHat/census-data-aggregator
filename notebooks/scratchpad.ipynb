{
 "cells": [
  {
   "cell_type": "markdown",
   "metadata": {},
   "source": [
    "# Census aggregation scratchpad\n",
    "\n",
    "By [Ben Welsh](https://palewi.re/who-is-ben-welsh/)"
   ]
  },
  {
   "cell_type": "code",
   "execution_count": 6,
   "metadata": {},
   "outputs": [],
   "source": [
    "import math"
   ]
  },
  {
   "cell_type": "markdown",
   "metadata": {},
   "source": [
    "### Approximation"
   ]
  },
  {
   "cell_type": "markdown",
   "metadata": {},
   "source": [
    "![](https://assets.documentcloud.org/documents/6162551/pages/20180418-MOE-p50-normal.gif)\n",
    "![](https://assets.documentcloud.org/documents/6162551/pages/20180418-MOE-p51-normal.gif)"
   ]
  },
  {
   "cell_type": "code",
   "execution_count": 8,
   "metadata": {},
   "outputs": [],
   "source": [
    "males_under_5, males_under_5_moe = 10154024, 3778"
   ]
  },
  {
   "cell_type": "code",
   "execution_count": 9,
   "metadata": {},
   "outputs": [],
   "source": [
    "females_under_5, females_under_5_moe = 9712936, 3911"
   ]
  },
  {
   "cell_type": "code",
   "execution_count": 10,
   "metadata": {},
   "outputs": [],
   "source": [
    "total_under_5 = males_under_5 + females_under_5"
   ]
  },
  {
   "cell_type": "code",
   "execution_count": 11,
   "metadata": {},
   "outputs": [
    {
     "data": {
      "text/plain": [
       "19866960"
      ]
     },
     "execution_count": 11,
     "metadata": {},
     "output_type": "execute_result"
    }
   ],
   "source": [
    "total_under_5"
   ]
  },
  {
   "cell_type": "code",
   "execution_count": 12,
   "metadata": {},
   "outputs": [],
   "source": [
    "total_under_5_moe = math.sqrt(males_under_5_moe**2 + females_under_5_moe**2)"
   ]
  },
  {
   "cell_type": "code",
   "execution_count": 13,
   "metadata": {},
   "outputs": [
    {
     "data": {
      "text/plain": [
       "5437.757350231803"
      ]
     },
     "execution_count": 13,
     "metadata": {},
     "output_type": "execute_result"
    }
   ],
   "source": [
    "total_under_5_moe"
   ]
  },
  {
   "cell_type": "markdown",
   "metadata": {},
   "source": [
    "![](https://assets.documentcloud.org/documents/6162551/pages/20180418-MOE-p52-normal.gif?1561126109)"
   ]
  },
  {
   "cell_type": "code",
   "execution_count": 19,
   "metadata": {},
   "outputs": [],
   "source": [
    "def approximate_margin_of_error(*pairs):\n",
    "    \"\"\"\n",
    "    Returns the approximate margin of error after combining all of the provided Census Bureau estimates, taking into account each value's margin of error.\n",
    "    \n",
    "    Expects a series of arguments, each a paired list with the estimated value first and the margin of error second.\n",
    "    \"\"\"\n",
    "    # According to the Census Bureau, when approximating a sum use only the largest zero estimate margin of error, once\n",
    "    # https://www.documentcloud.org/documents/6162551-20180418-MOE.html#document/p52\n",
    "    zeros = [p for p in pairs if p[0] == 0]\n",
    "    if len(zeros) > 1:\n",
    "        max_zero_margin = max([p[1] for p in zeros])\n",
    "        not_zero_margins = [p[1] for p in pairs if p[0] != 0]\n",
    "        margins = [max_zero_margin] + not_zero_margins\n",
    "    else:\n",
    "        margins = [p[1] for p in pairs]\n",
    "    return math.sqrt(sum([m**2 for m in margins]))    "
   ]
  },
  {
   "cell_type": "code",
   "execution_count": 20,
   "metadata": {},
   "outputs": [
    {
     "data": {
      "text/plain": [
       "5437.757350231803"
      ]
     },
     "execution_count": 20,
     "metadata": {},
     "output_type": "execute_result"
    }
   ],
   "source": [
    "approximate_margin_of_error(\n",
    "    (males_under_5, males_under_5_moe),\n",
    "    (females_under_5, females_under_5_moe)\n",
    ")"
   ]
  },
  {
   "cell_type": "code",
   "execution_count": 21,
   "metadata": {},
   "outputs": [
    {
     "data": {
      "text/plain": [
       "47.01063709417264"
      ]
     },
     "execution_count": 21,
     "metadata": {},
     "output_type": "execute_result"
    }
   ],
   "source": [
    "approximate_margin_of_error(\n",
    "    [0, 22],\n",
    "    [0, 22],\n",
    "    [0, 29],\n",
    "    [41, 37]\n",
    ")"
   ]
  },
  {
   "cell_type": "markdown",
   "metadata": {},
   "source": [
    "### Aggregation"
   ]
  },
  {
   "cell_type": "code",
   "execution_count": 22,
   "metadata": {},
   "outputs": [],
   "source": [
    "def aggregate(*pairs):\n",
    "    \"\"\"\n",
    "    Returns the combined value of all the provided Census Bureau estimates, along with an approximated margin of error.\n",
    "    \n",
    "    Expects a series of arguments, each a paired list with the estimated value first and the margin of error second.\n",
    "    \"\"\"\n",
    "    return sum([p[0] for p in pairs]), approximate_margin_of_error(*pairs)"
   ]
  },
  {
   "cell_type": "code",
   "execution_count": 24,
   "metadata": {},
   "outputs": [
    {
     "data": {
      "text/plain": [
       "(19866960, 5437.757350231803)"
      ]
     },
     "execution_count": 24,
     "metadata": {},
     "output_type": "execute_result"
    }
   ],
   "source": [
    "aggregate(\n",
    "    (males_under_5, males_under_5_moe),\n",
    "    (females_under_5, females_under_5_moe)\n",
    ")"
   ]
  },
  {
   "cell_type": "code",
   "execution_count": 23,
   "metadata": {},
   "outputs": [
    {
     "data": {
      "text/plain": [
       "(41, 47.01063709417264)"
      ]
     },
     "execution_count": 23,
     "metadata": {},
     "output_type": "execute_result"
    }
   ],
   "source": [
    "aggregate(\n",
    "    [0, 22],\n",
    "    [0, 22],\n",
    "    [0, 29],\n",
    "    [41, 37]\n",
    ")"
   ]
  }
 ],
 "metadata": {
  "kernelspec": {
   "display_name": "Python 3",
   "language": "python",
   "name": "python3"
  },
  "language_info": {
   "codemirror_mode": {
    "name": "ipython",
    "version": 3
   },
   "file_extension": ".py",
   "mimetype": "text/x-python",
   "name": "python",
   "nbconvert_exporter": "python",
   "pygments_lexer": "ipython3",
   "version": "3.6.8"
  }
 },
 "nbformat": 4,
 "nbformat_minor": 2
}
