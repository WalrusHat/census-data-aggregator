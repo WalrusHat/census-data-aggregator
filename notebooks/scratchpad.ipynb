{
 "cells": [
  {
   "cell_type": "markdown",
   "metadata": {},
   "source": [
    "# Census aggregation scratchpad\n",
    "\n",
    "By [Ben Welsh](https://palewi.re/who-is-ben-welsh/)"
   ]
  },
  {
   "cell_type": "code",
   "execution_count": 1,
   "metadata": {},
   "outputs": [],
   "source": [
    "import math"
   ]
  },
  {
   "cell_type": "markdown",
   "metadata": {},
   "source": [
    "### Approximation"
   ]
  },
  {
   "cell_type": "markdown",
   "metadata": {},
   "source": [
    "![](https://assets.documentcloud.org/documents/6162551/pages/20180418-MOE-p50-normal.gif)\n",
    "![](https://assets.documentcloud.org/documents/6162551/pages/20180418-MOE-p51-normal.gif)"
   ]
  },
  {
   "cell_type": "code",
   "execution_count": 2,
   "metadata": {},
   "outputs": [],
   "source": [
    "males_under_5, males_under_5_moe = 10154024, 3778"
   ]
  },
  {
   "cell_type": "code",
   "execution_count": 3,
   "metadata": {},
   "outputs": [],
   "source": [
    "females_under_5, females_under_5_moe = 9712936, 3911"
   ]
  },
  {
   "cell_type": "code",
   "execution_count": 4,
   "metadata": {},
   "outputs": [],
   "source": [
    "total_under_5 = males_under_5 + females_under_5"
   ]
  },
  {
   "cell_type": "code",
   "execution_count": 5,
   "metadata": {},
   "outputs": [
    {
     "data": {
      "text/plain": [
       "19866960"
      ]
     },
     "execution_count": 5,
     "metadata": {},
     "output_type": "execute_result"
    }
   ],
   "source": [
    "total_under_5"
   ]
  },
  {
   "cell_type": "code",
   "execution_count": 6,
   "metadata": {},
   "outputs": [],
   "source": [
    "total_under_5_moe = math.sqrt(males_under_5_moe**2 + females_under_5_moe**2)"
   ]
  },
  {
   "cell_type": "code",
   "execution_count": 7,
   "metadata": {},
   "outputs": [
    {
     "data": {
      "text/plain": [
       "5437.757350231803"
      ]
     },
     "execution_count": 7,
     "metadata": {},
     "output_type": "execute_result"
    }
   ],
   "source": [
    "total_under_5_moe"
   ]
  },
  {
   "cell_type": "markdown",
   "metadata": {},
   "source": [
    "![](https://assets.documentcloud.org/documents/6162551/pages/20180418-MOE-p52-normal.gif?1561126109)"
   ]
  },
  {
   "cell_type": "code",
   "execution_count": 8,
   "metadata": {},
   "outputs": [],
   "source": [
    "def approximate_margin_of_error(*pairs):\n",
    "    \"\"\"\n",
    "    Returns the approximate margin of error after combining all of the provided Census Bureau estimates, taking into account each value's margin of error.\n",
    "    \n",
    "    Expects a series of arguments, each a paired list with the estimated value first and the margin of error second.\n",
    "    \"\"\"\n",
    "    # According to the Census Bureau, when approximating a sum use only the largest zero estimate margin of error, once\n",
    "    # https://www.documentcloud.org/documents/6162551-20180418-MOE.html#document/p52\n",
    "    zeros = [p for p in pairs if p[0] == 0]\n",
    "    if len(zeros) > 1:\n",
    "        max_zero_margin = max([p[1] for p in zeros])\n",
    "        not_zero_margins = [p[1] for p in pairs if p[0] != 0]\n",
    "        margins = [max_zero_margin] + not_zero_margins\n",
    "    else:\n",
    "        margins = [p[1] for p in pairs]\n",
    "    return math.sqrt(sum([m**2 for m in margins]))    "
   ]
  },
  {
   "cell_type": "code",
   "execution_count": 9,
   "metadata": {},
   "outputs": [
    {
     "data": {
      "text/plain": [
       "5437.757350231803"
      ]
     },
     "execution_count": 9,
     "metadata": {},
     "output_type": "execute_result"
    }
   ],
   "source": [
    "approximate_margin_of_error(\n",
    "    (males_under_5, males_under_5_moe),\n",
    "    (females_under_5, females_under_5_moe)\n",
    ")"
   ]
  },
  {
   "cell_type": "code",
   "execution_count": 10,
   "metadata": {},
   "outputs": [
    {
     "data": {
      "text/plain": [
       "47.01063709417264"
      ]
     },
     "execution_count": 10,
     "metadata": {},
     "output_type": "execute_result"
    }
   ],
   "source": [
    "approximate_margin_of_error(\n",
    "    [0, 22],\n",
    "    [0, 22],\n",
    "    [0, 29],\n",
    "    [41, 37]\n",
    ")"
   ]
  },
  {
   "cell_type": "markdown",
   "metadata": {},
   "source": [
    "### Aggregating totals"
   ]
  },
  {
   "cell_type": "code",
   "execution_count": 11,
   "metadata": {},
   "outputs": [],
   "source": [
    "def total(*pairs):\n",
    "    \"\"\"\n",
    "    Returns the combined value of all the provided Census Bureau estimates, along with an approximated margin of error.\n",
    "    \n",
    "    Expects a series of arguments, each a paired list with the estimated value first and the margin of error second.\n",
    "    \"\"\"\n",
    "    return sum([p[0] for p in pairs]), approximate_margin_of_error(*pairs)"
   ]
  },
  {
   "cell_type": "code",
   "execution_count": 12,
   "metadata": {},
   "outputs": [
    {
     "data": {
      "text/plain": [
       "(19866960, 5437.757350231803)"
      ]
     },
     "execution_count": 12,
     "metadata": {},
     "output_type": "execute_result"
    }
   ],
   "source": [
    "total(\n",
    "    (males_under_5, males_under_5_moe),\n",
    "    (females_under_5, females_under_5_moe)\n",
    ")"
   ]
  },
  {
   "cell_type": "code",
   "execution_count": 13,
   "metadata": {},
   "outputs": [
    {
     "data": {
      "text/plain": [
       "(41, 47.01063709417264)"
      ]
     },
     "execution_count": 13,
     "metadata": {},
     "output_type": "execute_result"
    }
   ],
   "source": [
    "total(\n",
    "    [0, 22],\n",
    "    [0, 22],\n",
    "    [0, 29],\n",
    "    [41, 37]\n",
    ")"
   ]
  },
  {
   "cell_type": "markdown",
   "metadata": {},
   "source": [
    "### Aggregating medians"
   ]
  },
  {
   "cell_type": "markdown",
   "metadata": {},
   "source": [
    "![](https://assets.documentcloud.org/documents/6165014/pages/How-to-Recalculate-a-Median-p1-normal.gif?1561138970)\n",
    "![](https://assets.documentcloud.org/documents/6165014/pages/How-to-Recalculate-a-Median-p2-normal.gif?1561138970)\n",
    "![](https://assets.documentcloud.org/documents/6165014/pages/How-to-Recalculate-a-Median-p4-normal.gif?1561138970)"
   ]
  },
  {
   "cell_type": "code",
   "execution_count": 40,
   "metadata": {},
   "outputs": [],
   "source": [
    "def median(range_list):\n",
    "    \"\"\"\n",
    "    Returns the estimated median from a set of ranged totals. \n",
    "    \n",
    "    Expects a list of dictionaries with three keys:\n",
    "    \n",
    "        start: The minimum value in the range\n",
    "        end: The maximum value in the range\n",
    "        total: The count of people, households or other universe figure in the range\n",
    "\n",
    "    \"\"\"\n",
    "    # Sort the list\n",
    "    range_list.sort(key=lambda x: x['start'])\n",
    "    \n",
    "    # What is the total number in the universe\n",
    "    universe = sum([d['total'] for d in range_list])\n",
    "    \n",
    "    # What is the midpoint of that total?\n",
    "    midpoint = universe / 2.0\n",
    "    \n",
    "    # What group contains the midpoint?\n",
    "    running_total = 0\n",
    "    for range_ in range_list:\n",
    "        # Here we find it...\n",
    "        if midpoint >= running_total and midpoint <= (running_total + range_['total']):\n",
    "            # How many households in the midrange are needed to reach the midpoint?\n",
    "            midrange_gap = midpoint - running_total\n",
    "            \n",
    "            # What is the proportion of the group that would be needed to get the midpoint?\n",
    "            midrange_gap_percent = midrange_gap / range_['total']\n",
    "            \n",
    "            # Apply this proportion to the width of the midrange\n",
    "            midrange_gap_adjusted = (range_['end'] - range_['start']) * midrange_gap_percent\n",
    "\n",
    "            # Estimate the median\n",
    "            estimated_median = range_['start'] + midrange_gap_adjusted\n",
    "\n",
    "            # Return the result\n",
    "            return estimated_median\n",
    "        else:\n",
    "            running_total += range_['total']\n",
    "\n",
    "    # If we got this far something is wrong\n",
    "    raise ValueError(\"The midpoint of the total does not fall within a data range.\")"
   ]
  },
  {
   "cell_type": "code",
   "execution_count": 41,
   "metadata": {},
   "outputs": [],
   "source": [
    "data = [\n",
    "    dict(start=-2500, end=9999, total=186),\n",
    "    dict(start=10000, end=14999, total=78),\n",
    "    dict(start=15000, end=19999, total=98),\n",
    "    dict(start=20000, end=24999, total=287),\n",
    "    dict(start=25000, end=29999, total=142),\n",
    "    dict(start=30000, end=34999, total=90),\n",
    "    dict(start=35000, end=39999, total=107),\n",
    "    dict(start=40000, end=44999, total=104),\n",
    "    dict(start=45000, end=49999, total=178),\n",
    "    dict(start=50000, end=59999, total=106),\n",
    "    dict(start=60000, end=74999, total=177),\n",
    "    dict(start=75000, end=99999, total=262),\n",
    "    dict(start=100000, end=124999, total=77),\n",
    "    dict(start=125000, end=149999, total=100),\n",
    "    dict(start=150000, end=199999, total=58),\n",
    "    dict(start=200000, end=250001, total=18)\n",
    "]"
   ]
  },
  {
   "cell_type": "code",
   "execution_count": 42,
   "metadata": {},
   "outputs": [
    {
     "data": {
      "text/plain": [
       "42211.096153846156"
      ]
     },
     "execution_count": 42,
     "metadata": {},
     "output_type": "execute_result"
    }
   ],
   "source": [
    "median(data)"
   ]
  }
 ],
 "metadata": {
  "kernelspec": {
   "display_name": "Python 3",
   "language": "python",
   "name": "python3"
  },
  "language_info": {
   "codemirror_mode": {
    "name": "ipython",
    "version": 3
   },
   "file_extension": ".py",
   "mimetype": "text/x-python",
   "name": "python",
   "nbconvert_exporter": "python",
   "pygments_lexer": "ipython3",
   "version": "3.6.8"
  }
 },
 "nbformat": 4,
 "nbformat_minor": 2
}
