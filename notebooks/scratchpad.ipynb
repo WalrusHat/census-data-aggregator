{
 "cells": [
  {
   "cell_type": "markdown",
   "metadata": {},
   "source": [
    "# Census aggregation scratchpad\n",
    "\n",
    "By [Ben Welsh](https://palewi.re/who-is-ben-welsh/)"
   ]
  },
  {
   "cell_type": "code",
   "execution_count": 119,
   "metadata": {},
   "outputs": [],
   "source": [
    "import math"
   ]
  },
  {
   "cell_type": "markdown",
   "metadata": {},
   "source": [
    "### Approximation"
   ]
  },
  {
   "cell_type": "markdown",
   "metadata": {},
   "source": [
    "![](https://assets.documentcloud.org/documents/6162551/pages/20180418-MOE-p50-normal.gif)\n",
    "![](https://assets.documentcloud.org/documents/6162551/pages/20180418-MOE-p51-normal.gif)"
   ]
  },
  {
   "cell_type": "code",
   "execution_count": 120,
   "metadata": {},
   "outputs": [],
   "source": [
    "males_under_5, males_under_5_moe = 10154024, 3778"
   ]
  },
  {
   "cell_type": "code",
   "execution_count": 121,
   "metadata": {},
   "outputs": [],
   "source": [
    "females_under_5, females_under_5_moe = 9712936, 3911"
   ]
  },
  {
   "cell_type": "code",
   "execution_count": 122,
   "metadata": {},
   "outputs": [],
   "source": [
    "total_under_5 = males_under_5 + females_under_5"
   ]
  },
  {
   "cell_type": "code",
   "execution_count": 123,
   "metadata": {},
   "outputs": [
    {
     "data": {
      "text/plain": [
       "19866960"
      ]
     },
     "execution_count": 123,
     "metadata": {},
     "output_type": "execute_result"
    }
   ],
   "source": [
    "total_under_5"
   ]
  },
  {
   "cell_type": "code",
   "execution_count": 124,
   "metadata": {},
   "outputs": [],
   "source": [
    "total_under_5_moe = math.sqrt(males_under_5_moe**2 + females_under_5_moe**2)"
   ]
  },
  {
   "cell_type": "code",
   "execution_count": 125,
   "metadata": {},
   "outputs": [
    {
     "data": {
      "text/plain": [
       "5437.757350231803"
      ]
     },
     "execution_count": 125,
     "metadata": {},
     "output_type": "execute_result"
    }
   ],
   "source": [
    "total_under_5_moe"
   ]
  },
  {
   "cell_type": "markdown",
   "metadata": {},
   "source": [
    "![](https://assets.documentcloud.org/documents/6162551/pages/20180418-MOE-p52-normal.gif?1561126109)"
   ]
  },
  {
   "cell_type": "code",
   "execution_count": 126,
   "metadata": {},
   "outputs": [],
   "source": [
    "def approximate_margin_of_error(*pairs):\n",
    "    \"\"\"\n",
    "    Returns the approximate margin of error after combining all of the provided Census Bureau estimates, taking into account each value's margin of error.\n",
    "    \n",
    "    Expects a series of arguments, each a paired list with the estimated value first and the margin of error second.\n",
    "    \"\"\"\n",
    "    # According to the Census Bureau, when approximating a sum use only the largest zero estimate margin of error, once\n",
    "    # https://www.documentcloud.org/documents/6162551-20180418-MOE.html#document/p52\n",
    "    zeros = [p for p in pairs if p[0] == 0]\n",
    "    if len(zeros) > 1:\n",
    "        max_zero_margin = max([p[1] for p in zeros])\n",
    "        not_zero_margins = [p[1] for p in pairs if p[0] != 0]\n",
    "        margins = [max_zero_margin] + not_zero_margins\n",
    "    else:\n",
    "        margins = [p[1] for p in pairs]\n",
    "    return math.sqrt(sum([m**2 for m in margins]))    "
   ]
  },
  {
   "cell_type": "code",
   "execution_count": 127,
   "metadata": {},
   "outputs": [
    {
     "data": {
      "text/plain": [
       "5437.757350231803"
      ]
     },
     "execution_count": 127,
     "metadata": {},
     "output_type": "execute_result"
    }
   ],
   "source": [
    "approximate_margin_of_error(\n",
    "    (males_under_5, males_under_5_moe),\n",
    "    (females_under_5, females_under_5_moe)\n",
    ")"
   ]
  },
  {
   "cell_type": "code",
   "execution_count": 128,
   "metadata": {},
   "outputs": [
    {
     "data": {
      "text/plain": [
       "47.01063709417264"
      ]
     },
     "execution_count": 128,
     "metadata": {},
     "output_type": "execute_result"
    }
   ],
   "source": [
    "approximate_margin_of_error(\n",
    "    [0, 22],\n",
    "    [0, 22],\n",
    "    [0, 29],\n",
    "    [41, 37]\n",
    ")"
   ]
  },
  {
   "cell_type": "markdown",
   "metadata": {},
   "source": [
    "### Aggregating totals"
   ]
  },
  {
   "cell_type": "code",
   "execution_count": 129,
   "metadata": {},
   "outputs": [],
   "source": [
    "def total(*pairs):\n",
    "    \"\"\"\n",
    "    Returns the combined value of all the provided Census Bureau estimates, along with an approximated margin of error.\n",
    "    \n",
    "    Expects a series of arguments, each a paired list with the estimated value first and the margin of error second.\n",
    "    \"\"\"\n",
    "    return sum([p[0] for p in pairs]), approximate_margin_of_error(*pairs)"
   ]
  },
  {
   "cell_type": "code",
   "execution_count": 130,
   "metadata": {},
   "outputs": [
    {
     "data": {
      "text/plain": [
       "(19866960, 5437.757350231803)"
      ]
     },
     "execution_count": 130,
     "metadata": {},
     "output_type": "execute_result"
    }
   ],
   "source": [
    "total(\n",
    "    (males_under_5, males_under_5_moe),\n",
    "    (females_under_5, females_under_5_moe)\n",
    ")"
   ]
  },
  {
   "cell_type": "code",
   "execution_count": 131,
   "metadata": {},
   "outputs": [
    {
     "data": {
      "text/plain": [
       "(41, 47.01063709417264)"
      ]
     },
     "execution_count": 131,
     "metadata": {},
     "output_type": "execute_result"
    }
   ],
   "source": [
    "total(\n",
    "    [0, 22],\n",
    "    [0, 22],\n",
    "    [0, 29],\n",
    "    [41, 37]\n",
    ")"
   ]
  },
  {
   "cell_type": "markdown",
   "metadata": {},
   "source": [
    "### Aggregating medians"
   ]
  },
  {
   "cell_type": "markdown",
   "metadata": {},
   "source": [
    "![](https://assets.documentcloud.org/documents/6165014/pages/How-to-Recalculate-a-Median-p1-normal.gif?1561138970)\n",
    "![](https://assets.documentcloud.org/documents/6165014/pages/How-to-Recalculate-a-Median-p2-normal.gif?1561138970)\n",
    "![](https://assets.documentcloud.org/documents/6165014/pages/How-to-Recalculate-a-Median-p4-normal.gif?1561138970)"
   ]
  },
  {
   "cell_type": "code",
   "execution_count": 150,
   "metadata": {},
   "outputs": [],
   "source": [
    "def approximate_median(range_list):\n",
    "    \"\"\"\n",
    "    Returns the estimated median from a set of ranged totals.\n",
    "\n",
    "    Useful for generated medians for measures like median household income and median agn when aggregating census geographies.\n",
    "\n",
    "    Expects a list of dictionaries with three keys:\n",
    "\n",
    "        min: The minimum value in the range\n",
    "        max: The maximum value in the range\n",
    "        n: The number of people, households or other universe figure in the range\n",
    "    \"\"\"\n",
    "    # Sort the list\n",
    "    range_list.sort(key=lambda x: x['min'])\n",
    "\n",
    "    # What is the total number of observations in the universe?\n",
    "    n = sum([d['n'] for d in range_list])\n",
    "\n",
    "    # What is the midpoint of the universe?\n",
    "    midpoint = n / 2.0\n",
    "\n",
    "    # For each range calculate its min and max value along the universe's scale\n",
    "    cumulative_n = 0\n",
    "    for range_ in range_list:\n",
    "        range_['n_min'] = cumulative_n\n",
    "        cumulative_n += range_['n']\n",
    "        range_['n_max'] = cumulative_n\n",
    "\n",
    "    # Now use those to determine which group contains the midpoint.\n",
    "    try:\n",
    "        midpoint_range = next(d for d in range_list if midpoint >= d['n_min'] and midpoint <= d['n_max'])\n",
    "    except StopIteration:\n",
    "        raise StopIteration(\"The midpoint of the total does not fall within a data range.\")\n",
    "\n",
    "    # How many households in the midrange are needed to reach the midpoint?\n",
    "    midrange_gap = midpoint - midpoint_range['n_min']\n",
    "\n",
    "    # What is the proportion of the group that would be needed to get the midpoint?\n",
    "    midrange_gap_percent = midrange_gap / midpoint_range['n']\n",
    "\n",
    "    # Apply this proportion to the width of the midrange\n",
    "    midrange_gap_adjusted = (midrange_gap['max'] - midrange_gap['min']) * midrange_gap_percent\n",
    "\n",
    "    # Estimate the median\n",
    "    estimated_median = midrange_gap['min'] + midrange_gap_adjusted\n",
    "\n",
    "    # Return the result\n",
    "    return estimated_median"
   ]
  },
  {
   "cell_type": "code",
   "execution_count": 151,
   "metadata": {},
   "outputs": [],
   "source": [
    "income = [\n",
    "    dict(min=-2500, max=9999, n=186),\n",
    "    dict(min=10000, max=14999, n=78),\n",
    "    dict(min=15000, max=19999, n=98),\n",
    "    dict(min=20000, max=24999, n=287),\n",
    "    dict(min=25000, max=29999, n=142),\n",
    "    dict(min=30000, max=34999, n=90),\n",
    "    dict(min=35000, max=39999, n=107),\n",
    "    dict(min=40000, max=44999, n=104),\n",
    "    dict(min=45000, max=49999, n=178),\n",
    "    dict(min=50000, max=59999, n=106),\n",
    "    dict(min=60000, max=74999, n=177),\n",
    "    dict(min=75000, max=99999, n=262),\n",
    "    dict(min=100000, max=124999, n=77),\n",
    "    dict(min=125000, max=149999, n=100),\n",
    "    dict(min=150000, max=199999, n=58),\n",
    "    dict(min=200000, max=250001, n=18)\n",
    "]"
   ]
  },
  {
   "cell_type": "code",
   "execution_count": 152,
   "metadata": {},
   "outputs": [
    {
     "ename": "TypeError",
     "evalue": "'float' object is not subscriptable",
     "output_type": "error",
     "traceback": [
      "\u001b[0;31m---------------------------------------------------------------------------\u001b[0m",
      "\u001b[0;31mTypeError\u001b[0m                                 Traceback (most recent call last)",
      "\u001b[0;32m<ipython-input-152-e1272987c3d6>\u001b[0m in \u001b[0;36m<module>\u001b[0;34m\u001b[0m\n\u001b[0;32m----> 1\u001b[0;31m \u001b[0mapproximate_median\u001b[0m\u001b[0;34m(\u001b[0m\u001b[0mincome\u001b[0m\u001b[0;34m)\u001b[0m\u001b[0;34m\u001b[0m\u001b[0;34m\u001b[0m\u001b[0m\n\u001b[0m",
      "\u001b[0;32m<ipython-input-150-0a91e55bb796>\u001b[0m in \u001b[0;36mapproximate_median\u001b[0;34m(range_list)\u001b[0m\n\u001b[1;32m     40\u001b[0m \u001b[0;34m\u001b[0m\u001b[0m\n\u001b[1;32m     41\u001b[0m     \u001b[0;31m# Apply this proportion to the width of the midrange\u001b[0m\u001b[0;34m\u001b[0m\u001b[0;34m\u001b[0m\u001b[0;34m\u001b[0m\u001b[0m\n\u001b[0;32m---> 42\u001b[0;31m     \u001b[0mmidrange_gap_adjusted\u001b[0m \u001b[0;34m=\u001b[0m \u001b[0;34m(\u001b[0m\u001b[0mmidrange_gap\u001b[0m\u001b[0;34m[\u001b[0m\u001b[0;34m'max'\u001b[0m\u001b[0;34m]\u001b[0m \u001b[0;34m-\u001b[0m \u001b[0mmidrange_gap\u001b[0m\u001b[0;34m[\u001b[0m\u001b[0;34m'min'\u001b[0m\u001b[0;34m]\u001b[0m\u001b[0;34m)\u001b[0m \u001b[0;34m*\u001b[0m \u001b[0mmidrange_gap_percent\u001b[0m\u001b[0;34m\u001b[0m\u001b[0;34m\u001b[0m\u001b[0m\n\u001b[0m\u001b[1;32m     43\u001b[0m \u001b[0;34m\u001b[0m\u001b[0m\n\u001b[1;32m     44\u001b[0m     \u001b[0;31m# Estimate the median\u001b[0m\u001b[0;34m\u001b[0m\u001b[0;34m\u001b[0m\u001b[0;34m\u001b[0m\u001b[0m\n",
      "\u001b[0;31mTypeError\u001b[0m: 'float' object is not subscriptable"
     ]
    }
   ],
   "source": [
    "approximate_median(income)"
   ]
  }
 ],
 "metadata": {
  "kernelspec": {
   "display_name": "Python 3",
   "language": "python",
   "name": "python3"
  },
  "language_info": {
   "codemirror_mode": {
    "name": "ipython",
    "version": 3
   },
   "file_extension": ".py",
   "mimetype": "text/x-python",
   "name": "python",
   "nbconvert_exporter": "python",
   "pygments_lexer": "ipython3",
   "version": "3.6.8"
  }
 },
 "nbformat": 4,
 "nbformat_minor": 2
}
